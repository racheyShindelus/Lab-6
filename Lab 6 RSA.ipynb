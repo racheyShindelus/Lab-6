{
 "cells": [
  {
   "cell_type": "markdown",
   "metadata": {},
   "source": [
    "# Implementing RSA\n",
    "In this assignment we will be implementing the RSA cryptosystem. By the end you'll be able to:\n",
    "\n",
    "* generate a pair of public/private keys\n",
    "* encrypt a string of text into an array of numbers\n",
    "* decrypt an array of numbers back into a string of text\n",
    "\n",
    "We'll need the *randrange*, *gcd*, *egcd*, and *multinv* functions. These have been provided for you."
   ]
  },
  {
   "cell_type": "code",
   "execution_count": null,
   "metadata": {},
   "outputs": [],
   "source": [
    "# Import csci26 library\n",
    "from csci26 import *\n",
    "from random import randrange\n",
    "\n",
    "# Functions you'll need for this assignment\n",
    "def gcd(a, b):\n",
    "    if b == 0:\n",
    "        return a\n",
    "    else:\n",
    "        return gcd(b, a % b)\n",
    "    \n",
    "def egcd(a, b):\n",
    "    if b == 0:\n",
    "        return (1, 0)\n",
    "    else:\n",
    "        q = a // b\n",
    "        (s, t) = egcd(b, a % b)\n",
    "        return (t, s-q*t)\n",
    "\n",
    "def multinv(a, n):\n",
    "    (x, y) = egcd(a, n)\n",
    "    return x % n"
   ]
  },
  {
   "cell_type": "markdown",
   "metadata": {},
   "source": [
    "## Select two primes, *p* and *q*\n",
    "RSA starts with selecting two prime numbers. They need to be chosen so that *p*&sdot;*q* is larger than any value you're going to encrypt. The largest plaintext value is 256, so choose *p* and *q* so that *p*&sdot;*q* > 256. I suggest using primes in the range 100-1400.\n",
    "\n",
    "Visually scan this list and select two numbers to use. Assign them to *p* and *q* below.\n",
    "\n",
    "     101  103  107  109  113  127  131  137  139  149  151\n",
    "     157  163  167  173  179  181  191  193  197  199  211\n",
    "     223  227  229  233  239  241  251  257  263  269  271\n",
    "     277  281  283  293  307  311  313  317  331  337  347\n",
    "     349  353  359  367  373  379  383  389  397  401  409\n",
    "     419  421  431  433  439  443  449  457  461  463  467\n",
    "     479  487  491  499  503  509  521  523  541  547  557\n",
    "     563  569  571  577  587  593  599  601  607  613  617\n",
    "     619  631  641  643  647  653  659  661  673  677  683\n",
    "     691  701  709  719  727  733  739  743  751  757  761\n",
    "     769  773  787  797  809  811  821  823  827  829  839\n",
    "     853  857  859  863  877  881  883  887  907  911  919\n",
    "     929  937  941  947  953  967  971  977  983  991  997\n",
    "    1009 1013 1019 1021 1031 1033 1039 1049 1051 1061 1063\n",
    "    1069 1087 1091 1093 1097 1103 1109 1117 1123 1129 1151 \n",
    "    1153 1163 1171 1181 1187 1193 1201 1213 1217 1223 1229   \n",
    "    1231 1237 1249 1259 1277 1279 1283 1289 1291 1297 1301   \n",
    "    1303 1307 1319 1321 1327 1361 1367 1373 1381 1399"
   ]
  },
  {
   "cell_type": "code",
   "execution_count": null,
   "metadata": {},
   "outputs": [],
   "source": [
    "# Pick two primes and assign them to p and q\n",
    "p = None\n",
    "q = None"
   ]
  },
  {
   "cell_type": "markdown",
   "metadata": {},
   "source": [
    "## Compute *n*, the modulus\n",
    "The value n will be the modulus that RSA uses to keep values within a certain range. It's just the product of *p* and *q*."
   ]
  },
  {
   "cell_type": "code",
   "execution_count": null,
   "metadata": {},
   "outputs": [],
   "source": [
    "n = None"
   ]
  },
  {
   "cell_type": "markdown",
   "metadata": {},
   "source": [
    "## Compute the totient, ϕ(*n*)\n",
    "Since *n* can be expressed as the product of two primes, this is a straightforward computation. Refer to the properties of the totient to determine which computation to use."
   ]
  },
  {
   "cell_type": "code",
   "execution_count": null,
   "metadata": {},
   "outputs": [],
   "source": [
    "totient = None"
   ]
  },
  {
   "cell_type": "markdown",
   "metadata": {},
   "source": [
    "## Compute the list of possible values for *e*, the encryption exponent\n",
    "Any value that is co-prime with the totient will work. Construct the list of all possible values in the range (1, &phi;(*n*)] that are co-prime with &phi;(*n*). This could be a pretty long list, depending on how large &phi;(*n*) is. For example, if the totient is 117,936 there will be 31,104 co-prime values.\n",
    "\n",
    "Use `filter` to construct this list. You'll need a helper function, written in the lambda style, to determine if a number, *a* is co-prime with another number, *b*."
   ]
  },
  {
   "cell_type": "code",
   "execution_count": null,
   "metadata": {},
   "outputs": [],
   "source": [
    "es = None"
   ]
  },
  {
   "cell_type": "markdown",
   "metadata": {},
   "source": [
    "Run the next cell to find out how many values are in the list."
   ]
  },
  {
   "cell_type": "code",
   "execution_count": null,
   "metadata": {},
   "outputs": [],
   "source": [
    "len(es)"
   ]
  },
  {
   "cell_type": "markdown",
   "metadata": {},
   "source": [
    "## Select one of the *e* values at random\n",
    "Choose a number between 0 and the length of the `es` array. For example, if `len(es)` returned 12984, choose a number between 0 and 12983 (inclusive). Use that as an index into the array to randomly select one of the values to use as the encryption exponent, *e*."
   ]
  },
  {
   "cell_type": "code",
   "execution_count": null,
   "metadata": {},
   "outputs": [],
   "source": [
    "e = None"
   ]
  },
  {
   "cell_type": "markdown",
   "metadata": {},
   "source": [
    "## Compute the decryption exponent, *d*\n",
    "The two exponents, *e* and *d*, are multiplicative inverses of each other, modulo ϕ(*n*). Use the `multinv` function to compute the multiplicative inverse of *d* mod ϕ(*n*)."
   ]
  },
  {
   "cell_type": "code",
   "execution_count": null,
   "metadata": {},
   "outputs": [],
   "source": [
    "d = None"
   ]
  },
  {
   "cell_type": "code",
   "execution_count": null,
   "metadata": {},
   "outputs": [],
   "source": [
    "# Run this cell to verify that e and d are multiplicative inverses\n",
    "assert e * d % totient == 1"
   ]
  },
  {
   "cell_type": "markdown",
   "metadata": {},
   "source": [
    "## Assemble the public and private keys\n",
    "\n",
    "The two keys are each a tuple consisting of the exponents and the modulus paired together. This step has been done for you."
   ]
  },
  {
   "cell_type": "code",
   "execution_count": null,
   "metadata": {},
   "outputs": [],
   "source": [
    "# The public key is the encryption exponent and modulus\n",
    "pub = (e, n)\n",
    "\n",
    "# The private key is the decryption exponent and modulus\n",
    "priv = (d, n)"
   ]
  },
  {
   "cell_type": "code",
   "execution_count": null,
   "metadata": {},
   "outputs": [],
   "source": [
    "# Run this cell to see the public key\n",
    "pub"
   ]
  },
  {
   "cell_type": "code",
   "execution_count": null,
   "metadata": {},
   "outputs": [],
   "source": [
    "# Run this cell to see the private key\n",
    "priv"
   ]
  },
  {
   "cell_type": "markdown",
   "metadata": {},
   "source": [
    "## Encrypt a single numeric value\n",
    "\n",
    "Complete the `rsa` function, which takes a *key* and a numeric *value*. The key is assumed to be a tuple where the first element is the exponent and the second element is the modulus. The function uses the RSA formula to encrypt the single numeric value and returns the encrypted result.\n",
    "\n",
    "$$c = p^e \\bmod n$$\n",
    "\n",
    "For example, if the *key* is (17, 391) and the value to encrypt is 72, then `rsa((17, 391), 72)` would return 361. Applying the values to the formula we get\n",
    "\n",
    "$$361 = 72^{17} \\bmod 391$$"
   ]
  },
  {
   "cell_type": "code",
   "execution_count": null,
   "metadata": {},
   "outputs": [],
   "source": [
    "def rsa(key, value):\n",
    "    return None"
   ]
  },
  {
   "cell_type": "code",
   "execution_count": null,
   "metadata": {},
   "outputs": [],
   "source": [
    "# Run this cell to check your function\n",
    "assert rsa((17, 391), 72) == 361"
   ]
  },
  {
   "cell_type": "markdown",
   "metadata": {},
   "source": [
    "## Encrypt a byte string\n",
    "\n",
    "Complete the `encrypt` function, which takes a *key* and a byte string (*bstr*). It applies the RSA function to each character in the string and returns an array of numeric values.\n",
    "\n",
    "For example, if the key is (17, 391) and the string is encrypt is `b'Hi!'`, then `encrypt((17, 391), b'Hi!')` would return \\[361, 190, 339\\].\n",
    "\n",
    "You will need to use a lambda function to apply the `rsa` function, which normally accepts multiple arguments, to each character of the byte string."
   ]
  },
  {
   "cell_type": "code",
   "execution_count": null,
   "metadata": {},
   "outputs": [],
   "source": [
    "def encrypt(key, bstr):\n",
    "    return None"
   ]
  },
  {
   "cell_type": "code",
   "execution_count": null,
   "metadata": {},
   "outputs": [],
   "source": [
    "# Run this cell to check your function\n",
    "assert encrypt((17, 391), b'Hi!') == [361, 190, 339]"
   ]
  },
  {
   "cell_type": "markdown",
   "metadata": {},
   "source": [
    "## Decrypt an array of numbers\n",
    "\n",
    "The `decrypt` function is the complement to the `encrypt` function. It takes a *key* and an array of numbers (*arr*) and returns a byte string. It applies the RSA function to each number in the array and constructs a byte string out of the results.\n",
    "\n",
    "For example, if the key is (145, 391) and the array is \\[361, 190, 339\\], then `decrypt((145, 391), [361, 190, 339])` would return `b'Hi!'`.\n",
    "\n",
    "Again, you will need to use a lambda function to use as a paramter to `map`."
   ]
  },
  {
   "cell_type": "code",
   "execution_count": null,
   "metadata": {},
   "outputs": [],
   "source": [
    "def decrypt(key, arr):\n",
    "    return bytes( None )"
   ]
  },
  {
   "cell_type": "code",
   "execution_count": null,
   "metadata": {},
   "outputs": [],
   "source": [
    "# Run this cell to check your function\n",
    "assert decrypt((145, 391), [361, 190, 339]) == b'Hi!'"
   ]
  },
  {
   "cell_type": "markdown",
   "metadata": {},
   "source": [
    "## Post your public key\n",
    "\n",
    "Open up this [Google Docs spreadsheet.](https://docs.google.com/spreadsheets/d/1sw20nUsHPSIP2ea8WE0SY50YZ4BdttTgP6zWB62NV0g/edit?usp=sharing) Add your name to the list and paste your public key next to it.\n",
    "\n",
    "## Encrypt a few strings and post them\n",
    "\n",
    "Use your private key to encrypt **three** strings. Be witty, pithy, or capricious.\n",
    "\n",
    "The `csci26` library includes three functions, `serialize`, `unserialize`, and `printwrap`, that will convert your array of numbers into a base64-encoded string. Then we can use `printwrap` to keep each line short.\n",
    "\n",
    "Log in to Canvas and find the Discussion area. There you'll see a discussion set up for this assignment. Post your three encrypted strings as separate replies, one string per reply."
   ]
  },
  {
   "cell_type": "code",
   "execution_count": null,
   "metadata": {},
   "outputs": [],
   "source": [
    "printwrap(serialize(encrypt(KEY, b'PLAINTEXT')))"
   ]
  },
  {
   "cell_type": "markdown",
   "metadata": {},
   "source": [
    "## Decrypt two strings\n",
    "\n",
    "Locate **two** encrypted postings by *different people*. Decrypt them using their public keys and post the decrypted strings as a replies. But if you were unable to decrypt, post a reply saying so."
   ]
  },
  {
   "cell_type": "code",
   "execution_count": null,
   "metadata": {},
   "outputs": [],
   "source": [
    "decrypt(KEY, unserialize(CIPHERTEXT))"
   ]
  }
 ],
 "metadata": {
  "kernelspec": {
   "display_name": "Python 3 (ipykernel)",
   "language": "python",
   "name": "python3"
  },
  "language_info": {
   "codemirror_mode": {
    "name": "ipython",
    "version": 3
   },
   "file_extension": ".py",
   "mimetype": "text/x-python",
   "name": "python",
   "nbconvert_exporter": "python",
   "pygments_lexer": "ipython3",
   "version": "3.9.7"
  }
 },
 "nbformat": 4,
 "nbformat_minor": 4
}
